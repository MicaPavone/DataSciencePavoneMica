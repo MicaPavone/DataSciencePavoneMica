{
  "cells": [
    {
      "cell_type": "markdown",
      "metadata": {
        "id": "76b006de"
      },
      "source": [
        "\n",
        "# Introducción\n",
        "Este notebook tiene como objetivo analizar la relación entre el número de reseñas, el puntaje de las reseñas y las ventas de productos en Amazon. El análisis pretende explorar si existe una correlación significativa entre estos factores para orientar futuras estrategias comerciales.\n"
      ]
    },
    {
      "cell_type": "markdown",
      "metadata": {
        "id": "4DjHWtjO-fj2"
      },
      "source": [
        "## **Contexto del problema**\n",
        "Hoy en día, los marketplaces como **Amazon** reciben millones de reseñas de productos, las cuales influyen en la toma de decisiones de los consumidores. Comprender estas reseñas permite a las empresas mejorar productos, ajustar estrategias de venta, y optimizar la experiencia del cliente. Sin embargo, analizar grandes volúmenes de datos manualmente es ineficiente.\n",
        "\n",
        "## **Objetivo del proyecto**\n",
        "Nuestro objetivo es **predecir la valoración general (rating) de un producto** a partir de las características extraídas de las reseñas (como el texto, la cantidad de comentarios útiles o el número de votos). La variable objetivo será, por tanto, el **rating**, y trabajaremos con un enfoque de **clasificación supervisada**.\n",
        "\n",
        "## **Situación de negocio**\n",
        "Amazon necesita identificar patrones que lleven a valoraciones bajas o altas para:\n",
        "1. **Identificar productos mal valorados** y optimizar su oferta.\n",
        "2. **Mejorar recomendaciones de productos** para diferentes segmentos de clientes.\n",
        "3. **Automatizar la evaluación** de reseñas en función de ciertos patrones.\n",
        "\n",
        "---\n",
        "\n",
        "## **Estructura del Notebook**\n",
        "\n",
        "### **1. Carga del Dataset**\n",
        "Se descarga el dataset de Kaggle, se descomprime y se carga en un DataFrame de Pandas para su análisis.\n",
        "\n",
        "### **2. Análisis Exploratorio**\n",
        "Se exploran las primeras filas del dataset y se evalúa la existencia de valores nulos.\n",
        "* Si los nulos representan menos del 5% del total, se eliminan.\n",
        "* Si superan ese porcentaje, se considerará la imputación.\n",
        "\n",
        "### **3. Visualización de Datos**\n",
        "Se emplean gráficos para comprender la distribución de los ratings y detectar posibles outliers.\n",
        "\n",
        "### **4. Preprocesamiento de Datos**\n",
        "Se toman medidas para eliminar o imputar valores nulos según corresponda.\n",
        "\n",
        "### **5. Modelado Predictivo**\n",
        "Se selecciona un modelo supervisado para predecir el **rating** y se evalúa su desempeño.\n"
      ]
    },
    {
      "cell_type": "markdown",
      "source": [
        "#Formulacion de hipótesis:\n",
        "- Hipótesis 1 : Existe una correlación positiva entre el número de reseñas y el número de reseñas útiles.\n",
        "- Hipótesis 2: Los productos con un puntaje de reseña más alto tienen una mayor probabilidad de ser recomendados.\n",
        "- Hipótesis 3: Los productos con más reseñas útiles (mayor interacción) tienden a tener un puntaje de reseña más alto."
      ],
      "metadata": {
        "id": "3OyeFEqA8i7p"
      }
    },
    {
      "cell_type": "code",
      "execution_count": 1,
      "metadata": {
        "colab": {
          "base_uri": "https://localhost:8080/",
          "height": 71
        },
        "id": "czi6g7zjFegv",
        "outputId": "02ce95da-c894-4a13-a01a-24faf66ec553"
      },
      "outputs": [
        {
          "output_type": "display_data",
          "data": {
            "text/plain": [
              "<IPython.core.display.HTML object>"
            ],
            "text/html": [
              "\n",
              "     <input type=\"file\" id=\"files-efa506e8-041b-4125-be79-7ea6052ab9bb\" name=\"files[]\" multiple disabled\n",
              "        style=\"border:none\" />\n",
              "     <output id=\"result-efa506e8-041b-4125-be79-7ea6052ab9bb\">\n",
              "      Upload widget is only available when the cell has been executed in the\n",
              "      current browser session. Please rerun this cell to enable.\n",
              "      </output>\n",
              "      <script>// Copyright 2017 Google LLC\n",
              "//\n",
              "// Licensed under the Apache License, Version 2.0 (the \"License\");\n",
              "// you may not use this file except in compliance with the License.\n",
              "// You may obtain a copy of the License at\n",
              "//\n",
              "//      http://www.apache.org/licenses/LICENSE-2.0\n",
              "//\n",
              "// Unless required by applicable law or agreed to in writing, software\n",
              "// distributed under the License is distributed on an \"AS IS\" BASIS,\n",
              "// WITHOUT WARRANTIES OR CONDITIONS OF ANY KIND, either express or implied.\n",
              "// See the License for the specific language governing permissions and\n",
              "// limitations under the License.\n",
              "\n",
              "/**\n",
              " * @fileoverview Helpers for google.colab Python module.\n",
              " */\n",
              "(function(scope) {\n",
              "function span(text, styleAttributes = {}) {\n",
              "  const element = document.createElement('span');\n",
              "  element.textContent = text;\n",
              "  for (const key of Object.keys(styleAttributes)) {\n",
              "    element.style[key] = styleAttributes[key];\n",
              "  }\n",
              "  return element;\n",
              "}\n",
              "\n",
              "// Max number of bytes which will be uploaded at a time.\n",
              "const MAX_PAYLOAD_SIZE = 100 * 1024;\n",
              "\n",
              "function _uploadFiles(inputId, outputId) {\n",
              "  const steps = uploadFilesStep(inputId, outputId);\n",
              "  const outputElement = document.getElementById(outputId);\n",
              "  // Cache steps on the outputElement to make it available for the next call\n",
              "  // to uploadFilesContinue from Python.\n",
              "  outputElement.steps = steps;\n",
              "\n",
              "  return _uploadFilesContinue(outputId);\n",
              "}\n",
              "\n",
              "// This is roughly an async generator (not supported in the browser yet),\n",
              "// where there are multiple asynchronous steps and the Python side is going\n",
              "// to poll for completion of each step.\n",
              "// This uses a Promise to block the python side on completion of each step,\n",
              "// then passes the result of the previous step as the input to the next step.\n",
              "function _uploadFilesContinue(outputId) {\n",
              "  const outputElement = document.getElementById(outputId);\n",
              "  const steps = outputElement.steps;\n",
              "\n",
              "  const next = steps.next(outputElement.lastPromiseValue);\n",
              "  return Promise.resolve(next.value.promise).then((value) => {\n",
              "    // Cache the last promise value to make it available to the next\n",
              "    // step of the generator.\n",
              "    outputElement.lastPromiseValue = value;\n",
              "    return next.value.response;\n",
              "  });\n",
              "}\n",
              "\n",
              "/**\n",
              " * Generator function which is called between each async step of the upload\n",
              " * process.\n",
              " * @param {string} inputId Element ID of the input file picker element.\n",
              " * @param {string} outputId Element ID of the output display.\n",
              " * @return {!Iterable<!Object>} Iterable of next steps.\n",
              " */\n",
              "function* uploadFilesStep(inputId, outputId) {\n",
              "  const inputElement = document.getElementById(inputId);\n",
              "  inputElement.disabled = false;\n",
              "\n",
              "  const outputElement = document.getElementById(outputId);\n",
              "  outputElement.innerHTML = '';\n",
              "\n",
              "  const pickedPromise = new Promise((resolve) => {\n",
              "    inputElement.addEventListener('change', (e) => {\n",
              "      resolve(e.target.files);\n",
              "    });\n",
              "  });\n",
              "\n",
              "  const cancel = document.createElement('button');\n",
              "  inputElement.parentElement.appendChild(cancel);\n",
              "  cancel.textContent = 'Cancel upload';\n",
              "  const cancelPromise = new Promise((resolve) => {\n",
              "    cancel.onclick = () => {\n",
              "      resolve(null);\n",
              "    };\n",
              "  });\n",
              "\n",
              "  // Wait for the user to pick the files.\n",
              "  const files = yield {\n",
              "    promise: Promise.race([pickedPromise, cancelPromise]),\n",
              "    response: {\n",
              "      action: 'starting',\n",
              "    }\n",
              "  };\n",
              "\n",
              "  cancel.remove();\n",
              "\n",
              "  // Disable the input element since further picks are not allowed.\n",
              "  inputElement.disabled = true;\n",
              "\n",
              "  if (!files) {\n",
              "    return {\n",
              "      response: {\n",
              "        action: 'complete',\n",
              "      }\n",
              "    };\n",
              "  }\n",
              "\n",
              "  for (const file of files) {\n",
              "    const li = document.createElement('li');\n",
              "    li.append(span(file.name, {fontWeight: 'bold'}));\n",
              "    li.append(span(\n",
              "        `(${file.type || 'n/a'}) - ${file.size} bytes, ` +\n",
              "        `last modified: ${\n",
              "            file.lastModifiedDate ? file.lastModifiedDate.toLocaleDateString() :\n",
              "                                    'n/a'} - `));\n",
              "    const percent = span('0% done');\n",
              "    li.appendChild(percent);\n",
              "\n",
              "    outputElement.appendChild(li);\n",
              "\n",
              "    const fileDataPromise = new Promise((resolve) => {\n",
              "      const reader = new FileReader();\n",
              "      reader.onload = (e) => {\n",
              "        resolve(e.target.result);\n",
              "      };\n",
              "      reader.readAsArrayBuffer(file);\n",
              "    });\n",
              "    // Wait for the data to be ready.\n",
              "    let fileData = yield {\n",
              "      promise: fileDataPromise,\n",
              "      response: {\n",
              "        action: 'continue',\n",
              "      }\n",
              "    };\n",
              "\n",
              "    // Use a chunked sending to avoid message size limits. See b/62115660.\n",
              "    let position = 0;\n",
              "    do {\n",
              "      const length = Math.min(fileData.byteLength - position, MAX_PAYLOAD_SIZE);\n",
              "      const chunk = new Uint8Array(fileData, position, length);\n",
              "      position += length;\n",
              "\n",
              "      const base64 = btoa(String.fromCharCode.apply(null, chunk));\n",
              "      yield {\n",
              "        response: {\n",
              "          action: 'append',\n",
              "          file: file.name,\n",
              "          data: base64,\n",
              "        },\n",
              "      };\n",
              "\n",
              "      let percentDone = fileData.byteLength === 0 ?\n",
              "          100 :\n",
              "          Math.round((position / fileData.byteLength) * 100);\n",
              "      percent.textContent = `${percentDone}% done`;\n",
              "\n",
              "    } while (position < fileData.byteLength);\n",
              "  }\n",
              "\n",
              "  // All done.\n",
              "  yield {\n",
              "    response: {\n",
              "      action: 'complete',\n",
              "    }\n",
              "  };\n",
              "}\n",
              "\n",
              "scope.google = scope.google || {};\n",
              "scope.google.colab = scope.google.colab || {};\n",
              "scope.google.colab._files = {\n",
              "  _uploadFiles,\n",
              "  _uploadFilesContinue,\n",
              "};\n",
              "})(self);\n",
              "</script> "
            ]
          },
          "metadata": {}
        },
        {
          "output_type": "stream",
          "name": "stdout",
          "text": [
            "Saving Amazon.zip to Amazon.zip\n"
          ]
        }
      ],
      "source": [
        "from google.colab import files\n",
        "uploaded = files.upload()"
      ]
    },
    {
      "cell_type": "code",
      "execution_count": 2,
      "metadata": {
        "colab": {
          "base_uri": "https://localhost:8080/",
          "height": 533
        },
        "id": "v1BUdd-JHn3-",
        "outputId": "6afbf5a1-48e6-4cb0-96dc-7eaf575a50c4"
      },
      "outputs": [
        {
          "output_type": "execute_result",
          "data": {
            "text/plain": [
              "                     id       asins   brand                  categories  \\\n",
              "0  AVpe7AsMilAPnD_xQ78G  B00QJDU3KY  Amazon  Amazon Devices,mazon.co.uk   \n",
              "1  AVpe7AsMilAPnD_xQ78G  B00QJDU3KY  Amazon  Amazon Devices,mazon.co.uk   \n",
              "2  AVpe7AsMilAPnD_xQ78G  B00QJDU3KY  Amazon  Amazon Devices,mazon.co.uk   \n",
              "3  AVpe7AsMilAPnD_xQ78G  B00QJDU3KY  Amazon  Amazon Devices,mazon.co.uk   \n",
              "4  AVpe7AsMilAPnD_xQ78G  B00QJDU3KY  Amazon  Amazon Devices,mazon.co.uk   \n",
              "\n",
              "  colors             dateAdded           dateUpdated  \\\n",
              "0    NaN  2016-03-08T20:21:53Z  2017-07-18T23:52:58Z   \n",
              "1    NaN  2016-03-08T20:21:53Z  2017-07-18T23:52:58Z   \n",
              "2    NaN  2016-03-08T20:21:53Z  2017-07-18T23:52:58Z   \n",
              "3    NaN  2016-03-08T20:21:53Z  2017-07-18T23:52:58Z   \n",
              "4    NaN  2016-03-08T20:21:53Z  2017-07-18T23:52:58Z   \n",
              "\n",
              "                  dimension  ean                         keys  ...  \\\n",
              "0  169 mm x 117 mm x 9.1 mm  NaN  kindlepaperwhite/b00qjdu3ky  ...   \n",
              "1  169 mm x 117 mm x 9.1 mm  NaN  kindlepaperwhite/b00qjdu3ky  ...   \n",
              "2  169 mm x 117 mm x 9.1 mm  NaN  kindlepaperwhite/b00qjdu3ky  ...   \n",
              "3  169 mm x 117 mm x 9.1 mm  NaN  kindlepaperwhite/b00qjdu3ky  ...   \n",
              "4  169 mm x 117 mm x 9.1 mm  NaN  kindlepaperwhite/b00qjdu3ky  ...   \n",
              "\n",
              "  reviews.rating                                 reviews.sourceURLs  \\\n",
              "0            5.0  https://www.amazon.com/Kindle-Paperwhite-High-...   \n",
              "1            5.0  https://www.amazon.com/Kindle-Paperwhite-High-...   \n",
              "2            4.0  https://www.amazon.com/Kindle-Paperwhite-High-...   \n",
              "3            5.0  https://www.amazon.com/Kindle-Paperwhite-High-...   \n",
              "4            5.0  https://www.amazon.com/Kindle-Paperwhite-High-...   \n",
              "\n",
              "                                        reviews.text  \\\n",
              "0  I initially had trouble deciding between the p...   \n",
              "1  Allow me to preface this with a little history...   \n",
              "2  I am enjoying it so far. Great for reading. Ha...   \n",
              "3  I bought one of the first Paperwhites and have...   \n",
              "4  I have to say upfront - I don't like coroporat...   \n",
              "\n",
              "                                reviews.title reviews.userCity  \\\n",
              "0              Paperwhite voyage, no regrets!              NaN   \n",
              "1           One Simply Could Not Ask For More              NaN   \n",
              "2  Great for those that just want an e-reader              NaN   \n",
              "3                    Love / Hate relationship              NaN   \n",
              "4                                   I LOVE IT              NaN   \n",
              "\n",
              "  reviews.userProvince    reviews.username  sizes upc     weight  \n",
              "0                  NaN          Cristina M    NaN NaN  205 grams  \n",
              "1                  NaN               Ricky    NaN NaN  205 grams  \n",
              "2                  NaN       Tedd Gardiner    NaN NaN  205 grams  \n",
              "3                  NaN              Dougal    NaN NaN  205 grams  \n",
              "4                  NaN  Miljan David Tanic    NaN NaN  205 grams  \n",
              "\n",
              "[5 rows x 27 columns]"
            ],
            "text/html": [
              "\n",
              "  <div id=\"df-7900225d-731d-436d-be91-6e7f501d9683\" class=\"colab-df-container\">\n",
              "    <div>\n",
              "<style scoped>\n",
              "    .dataframe tbody tr th:only-of-type {\n",
              "        vertical-align: middle;\n",
              "    }\n",
              "\n",
              "    .dataframe tbody tr th {\n",
              "        vertical-align: top;\n",
              "    }\n",
              "\n",
              "    .dataframe thead th {\n",
              "        text-align: right;\n",
              "    }\n",
              "</style>\n",
              "<table border=\"1\" class=\"dataframe\">\n",
              "  <thead>\n",
              "    <tr style=\"text-align: right;\">\n",
              "      <th></th>\n",
              "      <th>id</th>\n",
              "      <th>asins</th>\n",
              "      <th>brand</th>\n",
              "      <th>categories</th>\n",
              "      <th>colors</th>\n",
              "      <th>dateAdded</th>\n",
              "      <th>dateUpdated</th>\n",
              "      <th>dimension</th>\n",
              "      <th>ean</th>\n",
              "      <th>keys</th>\n",
              "      <th>...</th>\n",
              "      <th>reviews.rating</th>\n",
              "      <th>reviews.sourceURLs</th>\n",
              "      <th>reviews.text</th>\n",
              "      <th>reviews.title</th>\n",
              "      <th>reviews.userCity</th>\n",
              "      <th>reviews.userProvince</th>\n",
              "      <th>reviews.username</th>\n",
              "      <th>sizes</th>\n",
              "      <th>upc</th>\n",
              "      <th>weight</th>\n",
              "    </tr>\n",
              "  </thead>\n",
              "  <tbody>\n",
              "    <tr>\n",
              "      <th>0</th>\n",
              "      <td>AVpe7AsMilAPnD_xQ78G</td>\n",
              "      <td>B00QJDU3KY</td>\n",
              "      <td>Amazon</td>\n",
              "      <td>Amazon Devices,mazon.co.uk</td>\n",
              "      <td>NaN</td>\n",
              "      <td>2016-03-08T20:21:53Z</td>\n",
              "      <td>2017-07-18T23:52:58Z</td>\n",
              "      <td>169 mm x 117 mm x 9.1 mm</td>\n",
              "      <td>NaN</td>\n",
              "      <td>kindlepaperwhite/b00qjdu3ky</td>\n",
              "      <td>...</td>\n",
              "      <td>5.0</td>\n",
              "      <td>https://www.amazon.com/Kindle-Paperwhite-High-...</td>\n",
              "      <td>I initially had trouble deciding between the p...</td>\n",
              "      <td>Paperwhite voyage, no regrets!</td>\n",
              "      <td>NaN</td>\n",
              "      <td>NaN</td>\n",
              "      <td>Cristina M</td>\n",
              "      <td>NaN</td>\n",
              "      <td>NaN</td>\n",
              "      <td>205 grams</td>\n",
              "    </tr>\n",
              "    <tr>\n",
              "      <th>1</th>\n",
              "      <td>AVpe7AsMilAPnD_xQ78G</td>\n",
              "      <td>B00QJDU3KY</td>\n",
              "      <td>Amazon</td>\n",
              "      <td>Amazon Devices,mazon.co.uk</td>\n",
              "      <td>NaN</td>\n",
              "      <td>2016-03-08T20:21:53Z</td>\n",
              "      <td>2017-07-18T23:52:58Z</td>\n",
              "      <td>169 mm x 117 mm x 9.1 mm</td>\n",
              "      <td>NaN</td>\n",
              "      <td>kindlepaperwhite/b00qjdu3ky</td>\n",
              "      <td>...</td>\n",
              "      <td>5.0</td>\n",
              "      <td>https://www.amazon.com/Kindle-Paperwhite-High-...</td>\n",
              "      <td>Allow me to preface this with a little history...</td>\n",
              "      <td>One Simply Could Not Ask For More</td>\n",
              "      <td>NaN</td>\n",
              "      <td>NaN</td>\n",
              "      <td>Ricky</td>\n",
              "      <td>NaN</td>\n",
              "      <td>NaN</td>\n",
              "      <td>205 grams</td>\n",
              "    </tr>\n",
              "    <tr>\n",
              "      <th>2</th>\n",
              "      <td>AVpe7AsMilAPnD_xQ78G</td>\n",
              "      <td>B00QJDU3KY</td>\n",
              "      <td>Amazon</td>\n",
              "      <td>Amazon Devices,mazon.co.uk</td>\n",
              "      <td>NaN</td>\n",
              "      <td>2016-03-08T20:21:53Z</td>\n",
              "      <td>2017-07-18T23:52:58Z</td>\n",
              "      <td>169 mm x 117 mm x 9.1 mm</td>\n",
              "      <td>NaN</td>\n",
              "      <td>kindlepaperwhite/b00qjdu3ky</td>\n",
              "      <td>...</td>\n",
              "      <td>4.0</td>\n",
              "      <td>https://www.amazon.com/Kindle-Paperwhite-High-...</td>\n",
              "      <td>I am enjoying it so far. Great for reading. Ha...</td>\n",
              "      <td>Great for those that just want an e-reader</td>\n",
              "      <td>NaN</td>\n",
              "      <td>NaN</td>\n",
              "      <td>Tedd Gardiner</td>\n",
              "      <td>NaN</td>\n",
              "      <td>NaN</td>\n",
              "      <td>205 grams</td>\n",
              "    </tr>\n",
              "    <tr>\n",
              "      <th>3</th>\n",
              "      <td>AVpe7AsMilAPnD_xQ78G</td>\n",
              "      <td>B00QJDU3KY</td>\n",
              "      <td>Amazon</td>\n",
              "      <td>Amazon Devices,mazon.co.uk</td>\n",
              "      <td>NaN</td>\n",
              "      <td>2016-03-08T20:21:53Z</td>\n",
              "      <td>2017-07-18T23:52:58Z</td>\n",
              "      <td>169 mm x 117 mm x 9.1 mm</td>\n",
              "      <td>NaN</td>\n",
              "      <td>kindlepaperwhite/b00qjdu3ky</td>\n",
              "      <td>...</td>\n",
              "      <td>5.0</td>\n",
              "      <td>https://www.amazon.com/Kindle-Paperwhite-High-...</td>\n",
              "      <td>I bought one of the first Paperwhites and have...</td>\n",
              "      <td>Love / Hate relationship</td>\n",
              "      <td>NaN</td>\n",
              "      <td>NaN</td>\n",
              "      <td>Dougal</td>\n",
              "      <td>NaN</td>\n",
              "      <td>NaN</td>\n",
              "      <td>205 grams</td>\n",
              "    </tr>\n",
              "    <tr>\n",
              "      <th>4</th>\n",
              "      <td>AVpe7AsMilAPnD_xQ78G</td>\n",
              "      <td>B00QJDU3KY</td>\n",
              "      <td>Amazon</td>\n",
              "      <td>Amazon Devices,mazon.co.uk</td>\n",
              "      <td>NaN</td>\n",
              "      <td>2016-03-08T20:21:53Z</td>\n",
              "      <td>2017-07-18T23:52:58Z</td>\n",
              "      <td>169 mm x 117 mm x 9.1 mm</td>\n",
              "      <td>NaN</td>\n",
              "      <td>kindlepaperwhite/b00qjdu3ky</td>\n",
              "      <td>...</td>\n",
              "      <td>5.0</td>\n",
              "      <td>https://www.amazon.com/Kindle-Paperwhite-High-...</td>\n",
              "      <td>I have to say upfront - I don't like coroporat...</td>\n",
              "      <td>I LOVE IT</td>\n",
              "      <td>NaN</td>\n",
              "      <td>NaN</td>\n",
              "      <td>Miljan David Tanic</td>\n",
              "      <td>NaN</td>\n",
              "      <td>NaN</td>\n",
              "      <td>205 grams</td>\n",
              "    </tr>\n",
              "  </tbody>\n",
              "</table>\n",
              "<p>5 rows × 27 columns</p>\n",
              "</div>\n",
              "    <div class=\"colab-df-buttons\">\n",
              "\n",
              "  <div class=\"colab-df-container\">\n",
              "    <button class=\"colab-df-convert\" onclick=\"convertToInteractive('df-7900225d-731d-436d-be91-6e7f501d9683')\"\n",
              "            title=\"Convert this dataframe to an interactive table.\"\n",
              "            style=\"display:none;\">\n",
              "\n",
              "  <svg xmlns=\"http://www.w3.org/2000/svg\" height=\"24px\" viewBox=\"0 -960 960 960\">\n",
              "    <path d=\"M120-120v-720h720v720H120Zm60-500h600v-160H180v160Zm220 220h160v-160H400v160Zm0 220h160v-160H400v160ZM180-400h160v-160H180v160Zm440 0h160v-160H620v160ZM180-180h160v-160H180v160Zm440 0h160v-160H620v160Z\"/>\n",
              "  </svg>\n",
              "    </button>\n",
              "\n",
              "  <style>\n",
              "    .colab-df-container {\n",
              "      display:flex;\n",
              "      gap: 12px;\n",
              "    }\n",
              "\n",
              "    .colab-df-convert {\n",
              "      background-color: #E8F0FE;\n",
              "      border: none;\n",
              "      border-radius: 50%;\n",
              "      cursor: pointer;\n",
              "      display: none;\n",
              "      fill: #1967D2;\n",
              "      height: 32px;\n",
              "      padding: 0 0 0 0;\n",
              "      width: 32px;\n",
              "    }\n",
              "\n",
              "    .colab-df-convert:hover {\n",
              "      background-color: #E2EBFA;\n",
              "      box-shadow: 0px 1px 2px rgba(60, 64, 67, 0.3), 0px 1px 3px 1px rgba(60, 64, 67, 0.15);\n",
              "      fill: #174EA6;\n",
              "    }\n",
              "\n",
              "    .colab-df-buttons div {\n",
              "      margin-bottom: 4px;\n",
              "    }\n",
              "\n",
              "    [theme=dark] .colab-df-convert {\n",
              "      background-color: #3B4455;\n",
              "      fill: #D2E3FC;\n",
              "    }\n",
              "\n",
              "    [theme=dark] .colab-df-convert:hover {\n",
              "      background-color: #434B5C;\n",
              "      box-shadow: 0px 1px 3px 1px rgba(0, 0, 0, 0.15);\n",
              "      filter: drop-shadow(0px 1px 2px rgba(0, 0, 0, 0.3));\n",
              "      fill: #FFFFFF;\n",
              "    }\n",
              "  </style>\n",
              "\n",
              "    <script>\n",
              "      const buttonEl =\n",
              "        document.querySelector('#df-7900225d-731d-436d-be91-6e7f501d9683 button.colab-df-convert');\n",
              "      buttonEl.style.display =\n",
              "        google.colab.kernel.accessAllowed ? 'block' : 'none';\n",
              "\n",
              "      async function convertToInteractive(key) {\n",
              "        const element = document.querySelector('#df-7900225d-731d-436d-be91-6e7f501d9683');\n",
              "        const dataTable =\n",
              "          await google.colab.kernel.invokeFunction('convertToInteractive',\n",
              "                                                    [key], {});\n",
              "        if (!dataTable) return;\n",
              "\n",
              "        const docLinkHtml = 'Like what you see? Visit the ' +\n",
              "          '<a target=\"_blank\" href=https://colab.research.google.com/notebooks/data_table.ipynb>data table notebook</a>'\n",
              "          + ' to learn more about interactive tables.';\n",
              "        element.innerHTML = '';\n",
              "        dataTable['output_type'] = 'display_data';\n",
              "        await google.colab.output.renderOutput(dataTable, element);\n",
              "        const docLink = document.createElement('div');\n",
              "        docLink.innerHTML = docLinkHtml;\n",
              "        element.appendChild(docLink);\n",
              "      }\n",
              "    </script>\n",
              "  </div>\n",
              "\n",
              "\n",
              "<div id=\"df-73c82560-4bfc-4d9a-819e-a260a6ad4847\">\n",
              "  <button class=\"colab-df-quickchart\" onclick=\"quickchart('df-73c82560-4bfc-4d9a-819e-a260a6ad4847')\"\n",
              "            title=\"Suggest charts\"\n",
              "            style=\"display:none;\">\n",
              "\n",
              "<svg xmlns=\"http://www.w3.org/2000/svg\" height=\"24px\"viewBox=\"0 0 24 24\"\n",
              "     width=\"24px\">\n",
              "    <g>\n",
              "        <path d=\"M19 3H5c-1.1 0-2 .9-2 2v14c0 1.1.9 2 2 2h14c1.1 0 2-.9 2-2V5c0-1.1-.9-2-2-2zM9 17H7v-7h2v7zm4 0h-2V7h2v10zm4 0h-2v-4h2v4z\"/>\n",
              "    </g>\n",
              "</svg>\n",
              "  </button>\n",
              "\n",
              "<style>\n",
              "  .colab-df-quickchart {\n",
              "      --bg-color: #E8F0FE;\n",
              "      --fill-color: #1967D2;\n",
              "      --hover-bg-color: #E2EBFA;\n",
              "      --hover-fill-color: #174EA6;\n",
              "      --disabled-fill-color: #AAA;\n",
              "      --disabled-bg-color: #DDD;\n",
              "  }\n",
              "\n",
              "  [theme=dark] .colab-df-quickchart {\n",
              "      --bg-color: #3B4455;\n",
              "      --fill-color: #D2E3FC;\n",
              "      --hover-bg-color: #434B5C;\n",
              "      --hover-fill-color: #FFFFFF;\n",
              "      --disabled-bg-color: #3B4455;\n",
              "      --disabled-fill-color: #666;\n",
              "  }\n",
              "\n",
              "  .colab-df-quickchart {\n",
              "    background-color: var(--bg-color);\n",
              "    border: none;\n",
              "    border-radius: 50%;\n",
              "    cursor: pointer;\n",
              "    display: none;\n",
              "    fill: var(--fill-color);\n",
              "    height: 32px;\n",
              "    padding: 0;\n",
              "    width: 32px;\n",
              "  }\n",
              "\n",
              "  .colab-df-quickchart:hover {\n",
              "    background-color: var(--hover-bg-color);\n",
              "    box-shadow: 0 1px 2px rgba(60, 64, 67, 0.3), 0 1px 3px 1px rgba(60, 64, 67, 0.15);\n",
              "    fill: var(--button-hover-fill-color);\n",
              "  }\n",
              "\n",
              "  .colab-df-quickchart-complete:disabled,\n",
              "  .colab-df-quickchart-complete:disabled:hover {\n",
              "    background-color: var(--disabled-bg-color);\n",
              "    fill: var(--disabled-fill-color);\n",
              "    box-shadow: none;\n",
              "  }\n",
              "\n",
              "  .colab-df-spinner {\n",
              "    border: 2px solid var(--fill-color);\n",
              "    border-color: transparent;\n",
              "    border-bottom-color: var(--fill-color);\n",
              "    animation:\n",
              "      spin 1s steps(1) infinite;\n",
              "  }\n",
              "\n",
              "  @keyframes spin {\n",
              "    0% {\n",
              "      border-color: transparent;\n",
              "      border-bottom-color: var(--fill-color);\n",
              "      border-left-color: var(--fill-color);\n",
              "    }\n",
              "    20% {\n",
              "      border-color: transparent;\n",
              "      border-left-color: var(--fill-color);\n",
              "      border-top-color: var(--fill-color);\n",
              "    }\n",
              "    30% {\n",
              "      border-color: transparent;\n",
              "      border-left-color: var(--fill-color);\n",
              "      border-top-color: var(--fill-color);\n",
              "      border-right-color: var(--fill-color);\n",
              "    }\n",
              "    40% {\n",
              "      border-color: transparent;\n",
              "      border-right-color: var(--fill-color);\n",
              "      border-top-color: var(--fill-color);\n",
              "    }\n",
              "    60% {\n",
              "      border-color: transparent;\n",
              "      border-right-color: var(--fill-color);\n",
              "    }\n",
              "    80% {\n",
              "      border-color: transparent;\n",
              "      border-right-color: var(--fill-color);\n",
              "      border-bottom-color: var(--fill-color);\n",
              "    }\n",
              "    90% {\n",
              "      border-color: transparent;\n",
              "      border-bottom-color: var(--fill-color);\n",
              "    }\n",
              "  }\n",
              "</style>\n",
              "\n",
              "  <script>\n",
              "    async function quickchart(key) {\n",
              "      const quickchartButtonEl =\n",
              "        document.querySelector('#' + key + ' button');\n",
              "      quickchartButtonEl.disabled = true;  // To prevent multiple clicks.\n",
              "      quickchartButtonEl.classList.add('colab-df-spinner');\n",
              "      try {\n",
              "        const charts = await google.colab.kernel.invokeFunction(\n",
              "            'suggestCharts', [key], {});\n",
              "      } catch (error) {\n",
              "        console.error('Error during call to suggestCharts:', error);\n",
              "      }\n",
              "      quickchartButtonEl.classList.remove('colab-df-spinner');\n",
              "      quickchartButtonEl.classList.add('colab-df-quickchart-complete');\n",
              "    }\n",
              "    (() => {\n",
              "      let quickchartButtonEl =\n",
              "        document.querySelector('#df-73c82560-4bfc-4d9a-819e-a260a6ad4847 button');\n",
              "      quickchartButtonEl.style.display =\n",
              "        google.colab.kernel.accessAllowed ? 'block' : 'none';\n",
              "    })();\n",
              "  </script>\n",
              "</div>\n",
              "\n",
              "    </div>\n",
              "  </div>\n"
            ],
            "application/vnd.google.colaboratory.intrinsic+json": {
              "type": "dataframe",
              "variable_name": "df"
            }
          },
          "metadata": {},
          "execution_count": 2
        }
      ],
      "source": [
        "\n",
        "# Carga de datos\n",
        "# Cargamos los datos del archivo de Amazon en un DataFrame y revisamos su estructura.\n",
        "\n",
        "import pandas as pd\n",
        "\n",
        "# Cargar datos desde el archivo comprimido\n",
        "df = pd.read_csv('Amazon.zip', compression='zip')\n",
        "\n",
        "# Mostrar las primeras filas para entender la estructura\n",
        "df.head()\n"
      ]
    },
    {
      "cell_type": "code",
      "source": [
        "import pandas as pd\n",
        "import matplotlib.pyplot as plt\n",
        "import seaborn as sns"
      ],
      "metadata": {
        "id": "SKVYjh0nWLtY"
      },
      "execution_count": 30,
      "outputs": []
    },
    {
      "cell_type": "code",
      "execution_count": 3,
      "metadata": {
        "colab": {
          "base_uri": "https://localhost:8080/"
        },
        "id": "38g6csKCJ7TK",
        "outputId": "ff6db861-df4e-4230-9537-ebdc34d756a8"
      },
      "outputs": [
        {
          "output_type": "stream",
          "name": "stdout",
          "text": [
            "0    0.200259\n",
            "1    0.159591\n",
            "2    0.420833\n",
            "3    0.148821\n",
            "4    0.267086\n",
            "Name: reviews.text, dtype: float64\n"
          ]
        }
      ],
      "source": [
        "from textblob import TextBlob\n",
        "\n",
        "# Analiza el sentimiento de las primeras 5 reseñas\n",
        "sentiments = df['reviews.text'].apply(lambda x: TextBlob(x).sentiment.polarity)\n",
        "print(sentiments.head())\n"
      ]
    },
    {
      "cell_type": "code",
      "execution_count": 4,
      "metadata": {
        "colab": {
          "base_uri": "https://localhost:8080/"
        },
        "id": "Er9KYHdrF-K-",
        "outputId": "98a65f1b-9db9-447e-9d9c-303614914ded"
      },
      "outputs": [
        {
          "output_type": "stream",
          "name": "stdout",
          "text": [
            "(1597, 27)\n"
          ]
        }
      ],
      "source": [
        "print(df.shape)\n"
      ]
    },
    {
      "cell_type": "code",
      "execution_count": 5,
      "metadata": {
        "colab": {
          "base_uri": "https://localhost:8080/"
        },
        "id": "vpajAQg7GEJs",
        "outputId": "1c3273a4-b630-4983-dc1b-7872ce718f58"
      },
      "outputs": [
        {
          "output_type": "stream",
          "name": "stdout",
          "text": [
            "<class 'pandas.core.frame.DataFrame'>\n",
            "RangeIndex: 1597 entries, 0 to 1596\n",
            "Data columns (total 27 columns):\n",
            " #   Column                Non-Null Count  Dtype  \n",
            "---  ------                --------------  -----  \n",
            " 0   id                    1597 non-null   object \n",
            " 1   asins                 1597 non-null   object \n",
            " 2   brand                 1597 non-null   object \n",
            " 3   categories            1597 non-null   object \n",
            " 4   colors                774 non-null    object \n",
            " 5   dateAdded             1597 non-null   object \n",
            " 6   dateUpdated           1597 non-null   object \n",
            " 7   dimension             565 non-null    object \n",
            " 8   ean                   898 non-null    float64\n",
            " 9   keys                  1597 non-null   object \n",
            " 10  manufacturer          965 non-null    object \n",
            " 11  manufacturerNumber    902 non-null    object \n",
            " 12  name                  1597 non-null   object \n",
            " 13  prices                1597 non-null   object \n",
            " 14  reviews.date          1217 non-null   object \n",
            " 15  reviews.doRecommend   539 non-null    object \n",
            " 16  reviews.numHelpful    900 non-null    float64\n",
            " 17  reviews.rating        1177 non-null   float64\n",
            " 18  reviews.sourceURLs    1597 non-null   object \n",
            " 19  reviews.text          1597 non-null   object \n",
            " 20  reviews.title         1580 non-null   object \n",
            " 21  reviews.userCity      0 non-null      float64\n",
            " 22  reviews.userProvince  0 non-null      float64\n",
            " 23  reviews.username      1580 non-null   object \n",
            " 24  sizes                 0 non-null      float64\n",
            " 25  upc                   898 non-null    float64\n",
            " 26  weight                686 non-null    object \n",
            "dtypes: float64(7), object(20)\n",
            "memory usage: 337.0+ KB\n",
            "None\n"
          ]
        }
      ],
      "source": [
        "print(df.info())"
      ]
    },
    {
      "cell_type": "markdown",
      "metadata": {
        "id": "kMK9b_3iHHdb"
      },
      "source": [
        "**reviewerID / customer_id**\n",
        "\n",
        "Descripción: Identificador único del cliente que dejó la reseña.\n",
        "Relevancia: Permite analizar hábitos de compra o tendencias de usuarios frecuentes.\n",
        "\n",
        "**productID / asin **\n",
        "\n",
        "Descripción: Identificador del producto reseñado.\n",
        "Relevancia: Es clave para agrupar reseñas por producto y detectar qué productos son más populares o problemáticos.\n",
        "\n",
        "**rating / overall (de 1 a 5)**\n",
        "\n",
        "Descripción: Calificación numérica otorgada por el usuario.\n",
        "Relevancia: Útil para análisis de opiniones, puntuaciones promedio y modelos de recomendación.\n",
        "Análisis potencial: Distribución de calificaciones, identificación de productos con alta/ baja aceptación.\n",
        "\n",
        "**review_text / review_body**\n",
        "\n",
        "Descripción: Contenido textual de la reseña.\n",
        "Relevancia: Ideal para minería de texto y análisis de sentimientos, identificando emociones o temas frecuentes.\n",
        "\n",
        "**review_date / timestamp**\n",
        "\n",
        "Descripción: Fecha de publicación de la reseña.\n",
        "Relevancia: Permite evaluar cómo cambia la percepción del producto con el tiempo o realizar análisis estacionales.\n",
        "\n",
        "**verified_purchase**\n",
        "\n",
        "Descripción: Indica si la compra fue verificada.\n",
        "Relevancia: Garantiza la autenticidad de la reseña, relevante para evaluar la fiabilidad de las opiniones.\n",
        "\n",
        "**category / product_category**\n",
        "\n",
        "Descripción: Categoría del producto (por ejemplo, \"Electrónica\", \"Libros\", etc.).\n",
        "Relevancia: Permite segmentar análisis por industria o tipo de producto.\n",
        "\n",
        "**helpful_votes / helpful**\n",
        "\n",
        "Descripción: Número de votos indicando que la reseña fue útil para otros usuarios.\n",
        "Relevancia: Identifica reseñas de alta calidad y usuarios influyentes en la plataforma.\n",
        "\n",
        "**price**\n",
        "\n",
        "Descripción: Precio del producto al momento de la compra.\n",
        "Relevancia: Se puede correlacionar con la satisfacción del cliente o detectar patrones de precios y valor percibido.\n",
        "\n",
        "**brand / manufacturer**\n",
        "\n",
        "Descripción: Marca o fabricante del producto.\n",
        "Relevancia: Sirve para evaluar la percepción de marcas específicas en el mercado.\n"
      ]
    },
    {
      "cell_type": "code",
      "execution_count": 6,
      "metadata": {
        "colab": {
          "base_uri": "https://localhost:8080/"
        },
        "id": "EkiJEN4RIJnn",
        "outputId": "312a0068-a624-4096-d868-17b6aa798fba"
      },
      "outputs": [
        {
          "output_type": "stream",
          "name": "stdout",
          "text": [
            "                ean  reviews.numHelpful  reviews.rating  reviews.userCity  \\\n",
            "count  8.980000e+02          900.000000     1177.000000               0.0   \n",
            "mean   8.443135e+11           83.584444        4.359388               NaN   \n",
            "std    3.416444e+09          197.150238        1.021445               NaN   \n",
            "min    8.416670e+11            0.000000        1.000000               NaN   \n",
            "25%    8.416670e+11            0.000000        4.000000               NaN   \n",
            "50%    8.416670e+11            0.000000        5.000000               NaN   \n",
            "75%    8.487190e+11           34.000000        5.000000               NaN   \n",
            "max    8.487190e+11          997.000000        5.000000               NaN   \n",
            "\n",
            "       reviews.userProvince  sizes           upc  \n",
            "count                   0.0    0.0  8.980000e+02  \n",
            "mean                    NaN    NaN  8.443135e+11  \n",
            "std                     NaN    NaN  3.416444e+09  \n",
            "min                     NaN    NaN  8.416670e+11  \n",
            "25%                     NaN    NaN  8.416670e+11  \n",
            "50%                     NaN    NaN  8.416670e+11  \n",
            "75%                     NaN    NaN  8.487190e+11  \n",
            "max                     NaN    NaN  8.487190e+11  \n"
          ]
        }
      ],
      "source": [
        "# Resumen estadístico: incluye media, desviación estándar, mínimos y máximos\n",
        "print(df.describe())"
      ]
    },
    {
      "cell_type": "code",
      "execution_count": 7,
      "metadata": {
        "colab": {
          "base_uri": "https://localhost:8080/"
        },
        "id": "VP1B8IFxJOd4",
        "outputId": "3ba5ea50-255f-4722-e1a7-83c0f526e201"
      },
      "outputs": [
        {
          "output_type": "stream",
          "name": "stdout",
          "text": [
            "Index(['id', 'asins', 'brand', 'categories', 'colors', 'dateAdded',\n",
            "       'dateUpdated', 'dimension', 'ean', 'keys', 'manufacturer',\n",
            "       'manufacturerNumber', 'name', 'prices', 'reviews.date',\n",
            "       'reviews.doRecommend', 'reviews.numHelpful', 'reviews.rating',\n",
            "       'reviews.sourceURLs', 'reviews.text', 'reviews.title',\n",
            "       'reviews.userCity', 'reviews.userProvince', 'reviews.username', 'sizes',\n",
            "       'upc', 'weight'],\n",
            "      dtype='object')\n"
          ]
        }
      ],
      "source": [
        "print(df.columns)\n"
      ]
    },
    {
      "source": [
        "# Assuming your data is in a CSV file named 'your_data_file.csv'\n",
        "# Replace 'your_data_file.csv' with the actual path to your data file\n",
        "data = pd.read_csv('Amazon.zip')  # Load"
      ],
      "cell_type": "code",
      "metadata": {
        "id": "SnBRJE2HgCk6"
      },
      "execution_count": 8,
      "outputs": []
    },
    {
      "cell_type": "code",
      "execution_count": 12,
      "metadata": {
        "colab": {
          "base_uri": "https://localhost:8080/"
        },
        "id": "hgVOmqyYP8yW",
        "outputId": "3513b5c1-2397-467d-8853-96eda83deb9d"
      },
      "outputs": [
        {
          "output_type": "stream",
          "name": "stdout",
          "text": [
            "colors                   823\n",
            "dimension               1032\n",
            "ean                      699\n",
            "manufacturer             632\n",
            "manufacturerNumber       695\n",
            "reviews.date             380\n",
            "reviews.doRecommend     1058\n",
            "reviews.numHelpful       697\n",
            "reviews.rating           420\n",
            "reviews.title             17\n",
            "reviews.userCity        1597\n",
            "reviews.userProvince    1597\n",
            "reviews.username          17\n",
            "sizes                   1597\n",
            "upc                      699\n",
            "weight                   911\n",
            "dtype: int64\n"
          ]
        }
      ],
      "source": [
        "import zipfile\n",
        "\n",
        "# Usar la ruta completa del archivo Amazon.zip\n",
        "zip_path = '/content/Amazon.zip'\n",
        "\n",
        "# Extraer el nombre del archivo dentro del zip y cargarlo\n",
        "with zipfile.ZipFile(zip_path, 'r') as zip_ref:\n",
        "    file_names = zip_ref.namelist()  # Lista de archivos dentro del zip\n",
        "    csv_file_name = file_names[0]    # Asumimos que el primer archivo es el que necesitas\n",
        "\n",
        "    # Cargar el archivo CSV directamente desde el zip\n",
        "    with zip_ref.open(csv_file_name) as csv_file:\n",
        "        data = pd.read_csv(csv_file)\n",
        "\n",
        "# Verificar los valores nulos como antes\n",
        "missing_values = data.isnull().sum()\n",
        "print(missing_values[missing_values > 0])  # Mostrar solo las columnas con valores nulos"
      ]
    },
    {
      "cell_type": "code",
      "execution_count": 13,
      "metadata": {
        "colab": {
          "base_uri": "https://localhost:8080/",
          "height": 586
        },
        "id": "_ZuXAZ7JLgmw",
        "outputId": "927127ea-26ee-4210-f2be-439c983abf12"
      },
      "outputs": [
        {
          "output_type": "execute_result",
          "data": {
            "text/plain": [
              "colors                   823\n",
              "dimension               1032\n",
              "ean                      699\n",
              "manufacturer             632\n",
              "manufacturerNumber       695\n",
              "reviews.date             380\n",
              "reviews.doRecommend     1058\n",
              "reviews.numHelpful       697\n",
              "reviews.rating           420\n",
              "reviews.title             17\n",
              "reviews.userCity        1597\n",
              "reviews.userProvince    1597\n",
              "reviews.username          17\n",
              "sizes                   1597\n",
              "upc                      699\n",
              "weight                   911\n",
              "dtype: int64"
            ],
            "text/html": [
              "<div>\n",
              "<style scoped>\n",
              "    .dataframe tbody tr th:only-of-type {\n",
              "        vertical-align: middle;\n",
              "    }\n",
              "\n",
              "    .dataframe tbody tr th {\n",
              "        vertical-align: top;\n",
              "    }\n",
              "\n",
              "    .dataframe thead th {\n",
              "        text-align: right;\n",
              "    }\n",
              "</style>\n",
              "<table border=\"1\" class=\"dataframe\">\n",
              "  <thead>\n",
              "    <tr style=\"text-align: right;\">\n",
              "      <th></th>\n",
              "      <th>0</th>\n",
              "    </tr>\n",
              "  </thead>\n",
              "  <tbody>\n",
              "    <tr>\n",
              "      <th>colors</th>\n",
              "      <td>823</td>\n",
              "    </tr>\n",
              "    <tr>\n",
              "      <th>dimension</th>\n",
              "      <td>1032</td>\n",
              "    </tr>\n",
              "    <tr>\n",
              "      <th>ean</th>\n",
              "      <td>699</td>\n",
              "    </tr>\n",
              "    <tr>\n",
              "      <th>manufacturer</th>\n",
              "      <td>632</td>\n",
              "    </tr>\n",
              "    <tr>\n",
              "      <th>manufacturerNumber</th>\n",
              "      <td>695</td>\n",
              "    </tr>\n",
              "    <tr>\n",
              "      <th>reviews.date</th>\n",
              "      <td>380</td>\n",
              "    </tr>\n",
              "    <tr>\n",
              "      <th>reviews.doRecommend</th>\n",
              "      <td>1058</td>\n",
              "    </tr>\n",
              "    <tr>\n",
              "      <th>reviews.numHelpful</th>\n",
              "      <td>697</td>\n",
              "    </tr>\n",
              "    <tr>\n",
              "      <th>reviews.rating</th>\n",
              "      <td>420</td>\n",
              "    </tr>\n",
              "    <tr>\n",
              "      <th>reviews.title</th>\n",
              "      <td>17</td>\n",
              "    </tr>\n",
              "    <tr>\n",
              "      <th>reviews.userCity</th>\n",
              "      <td>1597</td>\n",
              "    </tr>\n",
              "    <tr>\n",
              "      <th>reviews.userProvince</th>\n",
              "      <td>1597</td>\n",
              "    </tr>\n",
              "    <tr>\n",
              "      <th>reviews.username</th>\n",
              "      <td>17</td>\n",
              "    </tr>\n",
              "    <tr>\n",
              "      <th>sizes</th>\n",
              "      <td>1597</td>\n",
              "    </tr>\n",
              "    <tr>\n",
              "      <th>upc</th>\n",
              "      <td>699</td>\n",
              "    </tr>\n",
              "    <tr>\n",
              "      <th>weight</th>\n",
              "      <td>911</td>\n",
              "    </tr>\n",
              "  </tbody>\n",
              "</table>\n",
              "</div><br><label><b>dtype:</b> int64</label>"
            ]
          },
          "metadata": {},
          "execution_count": 13
        }
      ],
      "source": [
        "\n",
        "# Mostrar información sobre los valores nulos\n",
        "missing_values = data.isnull().sum()\n",
        "missing_values[missing_values > 0]  # Mostrar solo las columnas con valores nulos\n"
      ]
    },
    {
      "cell_type": "code",
      "source": [
        "# Rellenar valores nulos en columnas numéricas con la mediana\n",
        "data['reviews.rating'].fillna(data['reviews.rating'].median(), inplace=True)\n",
        "data['reviews.numHelpful'].fillna(data['reviews.numHelpful'].median(), inplace=True)\n"
      ],
      "metadata": {
        "colab": {
          "base_uri": "https://localhost:8080/"
        },
        "id": "6a3mI9jXFhcQ",
        "outputId": "d5520293-899e-43ca-cf0b-6b1ea8c1a05d"
      },
      "execution_count": 14,
      "outputs": [
        {
          "output_type": "stream",
          "name": "stderr",
          "text": [
            "<ipython-input-14-861315b66b95>:2: FutureWarning: A value is trying to be set on a copy of a DataFrame or Series through chained assignment using an inplace method.\n",
            "The behavior will change in pandas 3.0. This inplace method will never work because the intermediate object on which we are setting values always behaves as a copy.\n",
            "\n",
            "For example, when doing 'df[col].method(value, inplace=True)', try using 'df.method({col: value}, inplace=True)' or df[col] = df[col].method(value) instead, to perform the operation inplace on the original object.\n",
            "\n",
            "\n",
            "  data['reviews.rating'].fillna(data['reviews.rating'].median(), inplace=True)\n",
            "<ipython-input-14-861315b66b95>:3: FutureWarning: A value is trying to be set on a copy of a DataFrame or Series through chained assignment using an inplace method.\n",
            "The behavior will change in pandas 3.0. This inplace method will never work because the intermediate object on which we are setting values always behaves as a copy.\n",
            "\n",
            "For example, when doing 'df[col].method(value, inplace=True)', try using 'df.method({col: value}, inplace=True)' or df[col] = df[col].method(value) instead, to perform the operation inplace on the original object.\n",
            "\n",
            "\n",
            "  data['reviews.numHelpful'].fillna(data['reviews.numHelpful'].median(), inplace=True)\n"
          ]
        }
      ]
    },
    {
      "cell_type": "code",
      "source": [
        "# Rellenar valores nulos en columnas de texto con \"No especificado\"\n",
        "fill_value_text = \"No especificado\"\n",
        "columns_to_fill_text = ['colors', 'dimension', 'manufacturer', 'manufacturerNumber']\n",
        "data[columns_to_fill_text] = data[columns_to_fill_text].fillna(fill_value_text)\n"
      ],
      "metadata": {
        "id": "4RUjNrqcFpJC"
      },
      "execution_count": 15,
      "outputs": []
    },
    {
      "cell_type": "code",
      "source": [
        "# Comprobar si quedan valores nulos\n",
        "print(data.isnull().sum())\n"
      ],
      "metadata": {
        "colab": {
          "base_uri": "https://localhost:8080/"
        },
        "id": "opIYtmRJFqy5",
        "outputId": "dd26da8a-acca-4cc5-ffad-e34f2056dea8"
      },
      "execution_count": 16,
      "outputs": [
        {
          "output_type": "stream",
          "name": "stdout",
          "text": [
            "id                         0\n",
            "asins                      0\n",
            "brand                      0\n",
            "categories                 0\n",
            "colors                     0\n",
            "dateAdded                  0\n",
            "dateUpdated                0\n",
            "dimension                  0\n",
            "ean                      699\n",
            "keys                       0\n",
            "manufacturer               0\n",
            "manufacturerNumber         0\n",
            "name                       0\n",
            "prices                     0\n",
            "reviews.date             380\n",
            "reviews.doRecommend     1058\n",
            "reviews.numHelpful         0\n",
            "reviews.rating             0\n",
            "reviews.sourceURLs         0\n",
            "reviews.text               0\n",
            "reviews.title             17\n",
            "reviews.userCity        1597\n",
            "reviews.userProvince    1597\n",
            "reviews.username          17\n",
            "sizes                   1597\n",
            "upc                      699\n",
            "weight                   911\n",
            "dtype: int64\n"
          ]
        }
      ]
    },
    {
      "cell_type": "code",
      "source": [
        "import pandas as pd\n",
        "import matplotlib.pyplot as plt\n",
        "import seaborn as sns\n",
        "\n",
        "# Gráfico de dispersión para la Hipótesis 1\n",
        "plt.figure(figsize=(10, 6))\n",
        "sns.scatterplot(x=df_h1['reviews.rating'], y=df_h1['reviews.numHelpful'])\n",
        "plt.title(\"Correlación entre el número de reseñas y el número de reseñas útiles\")\n",
        "plt.xlabel(\"Número de reseñas\")\n",
        "plt.ylabel(\"Número de reseñas útiles\")\n",
        "plt.show()\n",
        "\n",
        "# Calcular la correlación\n",
        "correlacion_1 = df_h1['reviews.rating'].corr(df_h1['reviews.numHelpful'])\n",
        "print(\"Correlación entre el número de reseñas y el número de reseñas útiles:\", correlacion_1)\n"
      ],
      "metadata": {
        "colab": {
          "base_uri": "https://localhost:8080/",
          "height": 582
        },
        "id": "b2-v2lsdU1fY",
        "outputId": "6b8e3990-fe82-4629-bfca-2a28cc1caaf2"
      },
      "execution_count": 34,
      "outputs": [
        {
          "output_type": "display_data",
          "data": {
            "text/plain": [
              "<Figure size 1000x600 with 1 Axes>"
            ],
            "image/png": "[encoded data removed]"
          },
          "metadata": {}
        },
        {
          "output_type": "stream",
          "name": "stdout",
          "text": [
            "Correlación entre el número de reseñas y el número de reseñas útiles: -0.0047717621274682015\n"
          ]
        }
      ]
    },
    {
      "cell_type": "markdown",
      "source": [
        "#Conclusión:\n",
        "Dado que la correlación es cercana a cero, no se puede afirmar que exista una correlación positiva entre el número de reseñas y el número de reseñas útiles. Esto sugiere que el tener un mayor número de reseñas no necesariamente implica que habrá más reseñas útiles.\n"
      ],
      "metadata": {
        "id": "xAN6o1WBYmS4"
      }
    },
    {
      "cell_type": "code",
      "source": [
        "# Filtrar los datos relevantes\n",
        "df_h2 = df[['reviews.rating', 'reviews.doRecommend']].dropna()\n",
        "\n",
        "# Convertir `reviews.doRecommend` a una variable numérica (True=1, False=0)\n",
        "df_h2['doRecommend_numeric'] = df_h2['reviews.doRecommend'].astype(int)\n",
        "\n",
        "# Gráfico de caja (boxplot)\n",
        "plt.figure(figsize=(10, 6))\n",
        "sns.boxplot(x=df_h2['doRecommend_numeric'], y=df_h2['reviews.rating'])\n",
        "plt.title(\"Distribución del puntaje de reseña según recomendación\")\n",
        "plt.xlabel(\"Recomendación (0 = No, 1 = Sí)\")\n",
        "plt.ylabel(\"Puntaje de reseña\")\n",
        "plt.show()\n",
        "\n"
      ],
      "metadata": {
        "colab": {
          "base_uri": "https://localhost:8080/",
          "height": 565
        },
        "id": "DPiSbGaSWic1",
        "outputId": "38f13610-7bb1-4dbf-897b-3c98df223d11"
      },
      "execution_count": 40,
      "outputs": [
        {
          "output_type": "display_data",
          "data": {
            "text/plain": [
              "<Figure size 1000x600 with 1 Axes>"
            ],
            "image/png": "[encoded data removed]"
          },
          "metadata": {}
        }
      ]
    },
    {
      "cell_type": "markdown",
      "source": [
        "#Conclusión:\n",
        "Este análisis respalda la hipótesis de que los productos con un puntaje de reseña más alto tienen una mayor probabilidad de ser recomendados. La diferencia entre los dos grupos sugiere una tendencia clara: los productos con calificaciones más altas son más propensos a ser recomendados, mientras que aquellos con calificaciones bajas tienden a no serlo."
      ],
      "metadata": {
        "id": "DGV-hdgBY8uu"
      }
    },
    {
      "cell_type": "code",
      "source": [
        "# Filtrar los datos relevantes\n",
        "df_h3 = df[['reviews.numHelpful', 'reviews.rating']].dropna()\n",
        "\n",
        "# Gráfico de dispersión con línea de regresión\n",
        "plt.figure(figsize=(10, 6))\n",
        "sns.regplot(x=df_h3['reviews.numHelpful'], y=df_h3['reviews.rating'], line_kws={\"color\": \"red\"})\n",
        "plt.title(\"Relación entre número de reseñas útiles y puntaje de reseña\")\n",
        "plt.xlabel(\"Número de reseñas útiles\")\n",
        "plt.ylabel(\"Puntaje de reseña\")\n",
        "plt.show()\n",
        "\n",
        "# Calcular la correlación\n",
        "correlacion_3 = df_h3['reviews.numHelpful'].corr(df_h3['reviews.rating'])\n",
        "print(\"Correlación entre número de reseñas útiles y puntaje de reseña:\", correlacion_3)\n",
        "\n"
      ],
      "metadata": {
        "colab": {
          "base_uri": "https://localhost:8080/",
          "height": 582
        },
        "id": "w4lvTsK7WxJp",
        "outputId": "84f79f93-735c-433b-f99b-8534135b54c1"
      },
      "execution_count": 42,
      "outputs": [
        {
          "output_type": "display_data",
          "data": {
            "text/plain": [
              "<Figure size 1000x600 with 1 Axes>"
            ],
            "image/png": "[encoded data removed]"
          },
          "metadata": {}
        },
        {
          "output_type": "stream",
          "name": "stdout",
          "text": [
            "Correlación entre número de reseñas útiles y puntaje de reseña: -0.004771762127468202\n"
          ]
        }
      ]
    },
    {
      "cell_type": "markdown",
      "source": [
        "#Conclusión:\n",
        "Dado que la correlación es casi nula, no se puede confirmar que los productos con más reseñas útiles tienden a tener un puntaje de reseña más alto. Esto sugiere que la cantidad de reseñas útiles no tiene una influencia directa en el puntaje de la reseña, y que otros factores podrían estar influyendo en la percepción de la utilidad de las reseñas y en el puntaje."
      ],
      "metadata": {
        "id": "jkCJJ1LXZUhJ"
      }
    },
    {
      "cell_type": "markdown",
      "metadata": {
        "id": "5778fc1a"
      },
      "source": [
        "\n",
        "### Conclusiones y Reflexiones Finales\n",
        "- Hipótesis 1: Existe una correlación positiva entre el número de reseñas y el número de reseñas útiles.\n",
        "\n",
        "Conclusión: Los resultados muestran que no existe una relación significativa entre el número total de reseñas y el número de reseñas útiles. La correlación calculada fue cercana a cero, lo cual sugiere que tener más reseñas no implica necesariamente que haya más interacciones de utilidad (reseñas marcadas como útiles).\n",
        "\n",
        "Reflexión: Este hallazgo indica que la cantidad de reseñas no garantiza la calidad o utilidad de la interacción con los usuarios. En otras palabras, aunque un producto tenga muchas reseñas, no necesariamente será percibido como útil por los usuarios, lo que apunta a la importancia de la calidad del contenido en cada reseña, más allá de su cantidad.\n",
        "\n",
        "- Hipótesis 2: Los productos con un puntaje de reseña más alto tienen una mayor probabilidad de ser recomendados.\n",
        "\n",
        "Conclusión: Los resultados indican que existe una relación positiva entre el puntaje de reseña y la probabilidad de que un producto sea recomendado. Los productos con calificaciones altas tienen una mayor probabilidad de recibir recomendaciones, mientras que aquellos con puntajes bajos tienden a no ser recomendados.\n",
        "\n",
        "Reflexión: Este resultado es coherente con la intuición: es más probable que los consumidores recomienden productos que perciben como buenos o de alta calidad. Esto sugiere que el puntaje promedio de reseña es un indicador importante para los usuarios al momento de decidir si un producto vale la pena recomendar, y resalta la importancia de mantener altos niveles de satisfacción para fomentar recomendaciones.\n",
        "\n",
        "- Hipótesis 3: Los productos con más reseñas útiles (mayor interacción) tienden a tener un puntaje de reseña más alto.\n",
        "\n",
        "Conclusión: No se encontró una relación significativa entre el número de reseñas útiles y el puntaje de reseña. La correlación entre estas variables también fue cercana a cero, lo cual indica que una mayor interacción en términos de reseñas útiles no necesariamente se traduce en mejores calificaciones de los productos.\n",
        "\n",
        "Reflexión: Este resultado sugiere que la utilidad de una reseña (marcada como útil por otros usuarios) no está directamente relacionada con la percepción general de calidad del producto reflejada en el puntaje de reseña. Esto podría deberse a que la \"utilidad\" de una reseña es una característica independiente de la satisfacción general, y podría estar más relacionada con aspectos específicos y detallados que los usuarios encuentran informativos, independientemente de la calificación otorgada.\n",
        "\n",
        "#Reflexión General\n",
        "\n",
        "En conjunto, estos hallazgos nos brindan una perspectiva más matizada sobre las reseñas de productos. Mientras que la cantidad y la utilidad de las reseñas no siempre están relacionadas, el puntaje promedio de calificación sí parece ser un factor clave en la recomendación de productos. Estos resultados sugieren que la satisfacción general, medida por la calificación, es fundamental para influir en la recomendación, pero que otros factores —como el contenido de las reseñas y la percepción de utilidad de los usuarios— también son importantes en la interacción general.\n",
        "\n",
        "Para futuras investigaciones, podría ser valioso explorar factores cualitativos en las reseñas (como el tono, el nivel de detalle y los temas mencionados) para entender mejor qué hace que una reseña sea útil o impacte en la decisión de compra. Asimismo, se podrían considerar características del producto o del consumidor para analizar si influyen en la percepción de calidad y utilidad de las reseñas.\n",
        "\n",
        "En conclusión, aunque el número de reseñas y su utilidad no garantizan la calidad percibida de un producto, el puntaje de calificación sigue siendo un indicador relevante en la recomendación. Esto resalta la importancia de no solo tener muchas reseñas, sino también de fomentar contenido valioso que los usuarios consideren útil y que respalde una alta calificación promedio.\n",
        "\n",
        "\n",
        "\n",
        "\n",
        "\n",
        "\n"
      ]
    }
  ],
  "metadata": {
    "colab": {
      "provenance": []
    },
    "kernelspec": {
      "display_name": "Python 3",
      "name": "python3"
    },
    "language_info": {
      "name": "python"
    }
  },
  "nbformat": 4,
  "nbformat_minor": 0
}